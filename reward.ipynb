{
 "cells": [
  {
   "cell_type": "markdown",
   "id": "7f71a448",
   "metadata": {},
   "source": [
    "### Imports"
   ]
  },
  {
   "cell_type": "code",
   "execution_count": 15,
   "id": "09c8f1ac",
   "metadata": {},
   "outputs": [
    {
     "name": "stderr",
     "output_type": "stream",
     "text": [
      "C:\\Users\\maria\\AppData\\Local\\Temp\\ipykernel_1056\\700012485.py:6: MatplotlibDeprecationWarning: The seaborn styles shipped by Matplotlib are deprecated since 3.6, as they no longer correspond to the styles shipped by seaborn. However, they will remain available as 'seaborn-v0_8-<style>'. Alternatively, directly use the seaborn API instead.\n",
      "  plt.style.use('seaborn-poster')\n"
     ]
    }
   ],
   "source": [
    "import numpy as np\n",
    "import matplotlib.pyplot as plt\n",
    "from mpl_toolkits import mplot3d\n",
    "import math\n",
    "from math import sqrt\n",
    "plt.style.use('seaborn-poster')"
   ]
  },
  {
   "cell_type": "markdown",
   "id": "f388e6d9",
   "metadata": {},
   "source": [
    "### Custo máximo da energia elétrica"
   ]
  },
  {
   "cell_type": "code",
   "execution_count": 82,
   "id": "60acc597",
   "metadata": {},
   "outputs": [],
   "source": [
    "def custo_eletrico_banho(Sr, potencia_eletrica, custo_eletrico_kwh, tempo):\n",
    "    \"\"\"Calcula o custo da parte elétrica do banho.\n",
    "\n",
    "    O custo da parte elétrica do banho é dado pela potência do chuveiro em KW multiplicado pela fração de utilização\n",
    "    da resistência elétrica Sr, o custo do kWh em reais, e o tempo do banho em horas. Como o tempo é em minutos, \n",
    "    divide-se por 60. Como Sr é uma ação, seu valor é constante para toda a iteração.\n",
    "\n",
    "    Argumentos:\n",
    "        Sr (float): Seletor da resistência elétrica do tanque de aquecimento.\n",
    "        potencial_eletrica (float): Potência elétrica do tanque de aquecimento (chuveiro) em kW.\n",
    "        custo_eletrico_kwh (float): Custo do kWh da energia em reais por hora.\n",
    "        tempo (float): Tempo da ação em minutos.\n",
    "\n",
    "    Retorna:\n",
    "        custo_eletrico_total (float): Custo da energia elétrica do banho em reais.\n",
    "    \"\"\"\n",
    "    custo_eletrico_total = potencia_eletrica * Sr * custo_eletrico_kwh * tempo / 60\n",
    "\n",
    "    return custo_eletrico_total"
   ]
  },
  {
   "cell_type": "code",
   "execution_count": 83,
   "id": "256dab73",
   "metadata": {},
   "outputs": [
    {
     "data": {
      "text/plain": [
       "2.566666666666667"
      ]
     },
     "execution_count": 83,
     "metadata": {},
     "output_type": "execute_result"
    }
   ],
   "source": [
    "potencia_eletrica = 5.5\n",
    "Sr = 1\n",
    "custo_eletrico_kwh = 2\n",
    "tempo = 14\n",
    "\n",
    "custo_eletrico_max = custo_eletrico_banho(Sr, potencia_eletrica, custo_eletrico_kwh, tempo)\n",
    "custo_eletrico_max"
   ]
  },
  {
   "cell_type": "markdown",
   "id": "caa8f888",
   "metadata": {},
   "source": [
    "### Custo máximo de gás"
   ]
  },
  {
   "cell_type": "code",
   "execution_count": 84,
   "id": "10ceb6ec",
   "metadata": {},
   "outputs": [],
   "source": [
    "def custo_gas_banho(Sa, potencia_aquecedor, custo_gas_kg, dt):\n",
    "    \"\"\"Calcula o custo do gás do banho.\n",
    "\n",
    "    A potência de um aquecedor a gás é dada em kcal/h. Considerando um rendimento de 86%, a potência últi será\n",
    "    a potência multiplicada pelo rendimento. Para saber quantas kcal são fornecidas durante o banho, multiplica-se\n",
    "    a potência útil pela quantidade de energia gasta de Sa (área da curva) e divide por 60 para tempo em horas.\n",
    "    O pode calorífico do gás GLP é de 11750 kcal/kg. Se multiplicarmos esse valor pela quantidade de kcal gasta no banho,\n",
    "    é possível obter a quantidade de gás em kg gasta no banho. Finalmente, o custo em reais é dado pela quantidade de gás em kg\n",
    "    multiplicada pelo custo do gás em kg/reais.\n",
    "    \n",
    "    Referências: \n",
    "        https://conteudos.rinnai.com.br/vazao-aquecedor-de-agua-a-gas/#:~:text=A%20pot%C3%AAncia%20do%20aquecedor%20%C3%A9,hora%20(kcal%2Fh)\n",
    "        https://www.supergasbras.com.br/super-blog/negocio/2021/qual-a-vantagem-do-poder-calorifico-do-glp#:~:text=GLP%3A%2011.750%20Kcal%2Fkg,G%C3%A1s%20Natural%3A%209.400%20Kcal%2Fm%C2%B3\n",
    "    \n",
    "    Argumentos:\n",
    "        Sa (float): Seletor do aquecimento do boiler.\n",
    "        potencial_aquecedor (float): Potência do aquecedor (boiler) em kcal/h.\n",
    "        custo_gas_kg (float): Custo do kg do gás em reais por kg.\n",
    "        tempo (float): Tempo da ação em minutos.\n",
    "        df (float): Passo de tempo da simulação.\n",
    "\n",
    "    Retorna:\n",
    "        custo_gas_total (float): Custo do gás do banho em reais.\n",
    "    \"\"\"\n",
    "    # Tempo em minutos que o aquecedor fica ligado (Sa = 1):\n",
    "    # numero_vezes_aquecedor_ligado = np.count_nonzero(Sa == 1) # integrar também?\n",
    "    # tempo_aquecedor_ligado = tempo * numero_vezes_aquecedor_ligado / (tempo / dt)\n",
    "\n",
    "    # Quantidade de Sa utilizado:\n",
    "    Sa_utilizado = np.trapz(y=Sa, dx=dt)\n",
    "\n",
    "    # Potência útil do aquecedor em kcal/h:\n",
    "    rendimento = 1\n",
    "    potencia_util = potencia_aquecedor * rendimento\n",
    "\n",
    "    # Quantidade de kcal fornecida durante o banho:\n",
    "    # kcal_fornecida_no_banho = potencia_util * tempo_aquecedor_ligado / 60\n",
    "    kcal_fornecida_no_banho = potencia_util * Sa_utilizado / 60\n",
    "\n",
    "    # Poder calorífico do gás em kcal/kg (GLP):\n",
    "    kg_equivalente_kcal = 11750 \n",
    "\n",
    "    # Quantidade de gás gasta durante o banho:\n",
    "    quantidade_gas_kg = kcal_fornecida_no_banho / kg_equivalente_kcal \n",
    "\n",
    "    # Custo do gás:\n",
    "    custo_gas_total = custo_gas_kg * quantidade_gas_kg\n",
    "\n",
    "    return custo_gas_total "
   ]
  },
  {
   "cell_type": "code",
   "execution_count": 85,
   "id": "fe33a20e",
   "metadata": {},
   "outputs": [
    {
     "data": {
      "text/plain": [
       "0.5754751773049644"
      ]
     },
     "execution_count": 85,
     "metadata": {},
     "output_type": "execute_result"
    }
   ],
   "source": [
    "potencia_aquecedor = 29000\n",
    "custo_gas_kg = 1\n",
    "dt = 0.01\n",
    "Sa = np.repeat(1, 1400)\n",
    "\n",
    "custo_gas_max = custo_gas_banho(Sa, potencia_aquecedor, custo_gas_kg, dt)\n",
    "custo_gas_max"
   ]
  },
  {
   "cell_type": "markdown",
   "id": "20999686",
   "metadata": {},
   "source": [
    "### Custo máximo água"
   ]
  },
  {
   "cell_type": "code",
   "execution_count": 86,
   "id": "fdb05cfb",
   "metadata": {},
   "outputs": [],
   "source": [
    "def modelo_valvula_saida(xs):\n",
    "    \"\"\"Modelo para a vazão válvula de saída (Fs).\n",
    "\n",
    "    Argumentos:\n",
    "        xs (float): Abertura da válvula de saída.\n",
    "\n",
    "    Retorna:\n",
    "        Fs (float): Vazão da válvula de saída.\n",
    "    \"\"\"\n",
    "    n = 5 * (xs ** 3) * (sqrt(30)) * sqrt(-15 * (xs ** 6) + sqrt(6625 * (xs ** 12) + 640 * (xs ** 6) + 16))\n",
    "    d = 20 * (xs ** 6) + 1\n",
    "\n",
    "    Fs = n / d\n",
    "    return Fs"
   ]
  },
  {
   "cell_type": "code",
   "execution_count": 87,
   "id": "7c470a39",
   "metadata": {},
   "outputs": [],
   "source": [
    "def custo_agua_banho(Fs, custo_agua_m3, tempo):\n",
    "    \"\"\"Calcula o custo de água do banho.\n",
    "\n",
    "    A quantidade de litros gasta em um banho é dada pela vazão em L/min multiplicada pelo tempo em minutos do banho.\n",
    "    Depois, divide-se a quantidade de litros por 1000, para obter a quantidade em m3 gasta durante o banho.\n",
    "    Multiplicando esse valor pelo custo da água em m3/reais, obtém-se o custo em reais da água gasta durante o banho.\n",
    "\n",
    "    Argumentos:\n",
    "        xs (float): Vazão da válvula de saída.\n",
    "        custo_agua_m3 (float): Custo da água em m3 por reais. \n",
    "        tempo (float): Tempo da ação em minutos.\n",
    "\n",
    "    Retorna:\n",
    "        custo_agua_total: Custo da água do banho em reais.\n",
    "    \"\"\"\n",
    "    # integrar a vazão da água\n",
    "    custo_agua_total = ((Fs * tempo ) / 1000) * custo_agua_m3 \n",
    "\n",
    "    return custo_agua_total"
   ]
  },
  {
   "cell_type": "code",
   "execution_count": 88,
   "id": "41ec14c9",
   "metadata": {},
   "outputs": [
    {
     "data": {
      "text/plain": [
       "10.92317131464205"
      ]
     },
     "execution_count": 88,
     "metadata": {},
     "output_type": "execute_result"
    }
   ],
   "source": [
    "xs = 0.99\n",
    "Fs = modelo_valvula_saida(0.99)\n",
    "Fs"
   ]
  },
  {
   "cell_type": "code",
   "execution_count": 89,
   "id": "2b83eddb",
   "metadata": {},
   "outputs": [
    {
     "data": {
      "text/plain": [
       "0.6116975936199548"
      ]
     },
     "execution_count": 89,
     "metadata": {},
     "output_type": "execute_result"
    }
   ],
   "source": [
    "custo_agua_m3 = 4\n",
    "tempo = 14\n",
    "\n",
    "custo_agua_max = custo_agua_banho(Fs, custo_agua_m3, tempo)\n",
    "custo_agua_max"
   ]
  },
  {
   "cell_type": "markdown",
   "id": "b20e849a",
   "metadata": {},
   "source": [
    "### Recompensa\n",
    "    reward = c1 * self.iqb + c2 * 1 / (self.custo_eletrico / self.custo_eletrico_maximo_14_min)"
   ]
  },
  {
   "cell_type": "code",
   "execution_count": 90,
   "id": "08ff9cc1",
   "metadata": {},
   "outputs": [],
   "source": [
    "def calculo_iqb(Ts, Fs):\n",
    "    \"\"\"Calcula o índice de qualidade do banho (iqb).\n",
    "    \n",
    "    Argumentos:\n",
    "        Ts (float): Temperatura de saída do chuveiro.\n",
    "        Fs (float): Vazão da válvula de saída.\n",
    "\n",
    "    Retorna:\n",
    "        iqb (float): Índice de qualidade do banho.\n",
    "    \"\"\"\n",
    "    iqb = (1 / math.e) * math.exp((1 - ((Ts - 38 + 0.02 * Fs) / 2) ** 2) * np.power((0.506 + math.log10(math.log10((10000 * np.sqrt(Fs)) / (10 + Fs + 0.004 * np.power(Fs, 4))))), 20))\n",
    "\n",
    "    if np.isnan(iqb) or iqb == None or np.isinf(abs(iqb)) or iqb < 0:\n",
    "        iqb = 0\n",
    "    if iqb > 1:\n",
    "        iqb = 1\n",
    "        \n",
    "    return iqb"
   ]
  },
  {
   "cell_type": "code",
   "execution_count": 91,
   "id": "afc6a952",
   "metadata": {},
   "outputs": [],
   "source": [
    "def calculo_recompensa(Ts, Fs, Sr):\n",
    "    \n",
    "    iqb = calculo_iqb(Ts, Fs)\n",
    "    print(f\"IQB: {iqb}\")\n",
    "    \n",
    "    potencia_eletrica = 5.5\n",
    "    custo_eletrico_kwh = 2\n",
    "    tempo = 2\n",
    "    custo_eletrico = custo_eletrico_banho(Sr, potencia_eletrica, custo_eletrico_kwh, tempo)\n",
    "    print(f\"Custo elétrico: {custo_eletrico}\")\n",
    "    \n",
    "    potencia_aquecedor = 29000\n",
    "    custo_gas_kg = 1\n",
    "    dt = 0.01\n",
    "    Sa1 = np.repeat(1, 100)\n",
    "    Sa2 = np.repeat(0, 100)\n",
    "    Sa = np.concatenate((Sa1, Sa2), axis=None)\n",
    "    custo_gas = custo_gas_banho(Sa, potencia_aquecedor, custo_gas_kg, dt)\n",
    "    print(f\"Custo gás: {custo_gas}\")\n",
    "    \n",
    "    custo_agua_m3 = 4\n",
    "    tempo = 2\n",
    "    Fs = 4.5\n",
    "    tempo = 2\n",
    "    custo_agua = custo_agua_banho(Fs, custo_agua_m3, tempo)\n",
    "    print(f\"Custo água: {custo_agua}\")\n",
    "    \n",
    "    reward = (3 * iqb + 2 * (1 - (custo_eletrico / custo_eletrico_max))) / 5\n",
    "    print(f\"Recompensa: {reward}\")"
   ]
  },
  {
   "cell_type": "code",
   "execution_count": 92,
   "id": "ad7f73b6",
   "metadata": {},
   "outputs": [
    {
     "name": "stdout",
     "output_type": "stream",
     "text": [
      "IQB: 0.6081728756016352\n",
      "Custo elétrico: 0.07333333333333333\n",
      "Custo gás: 0.0409290780141844\n",
      "Custo água: 0.036\n",
      "Recompensa: 0.7534751539324096\n"
     ]
    }
   ],
   "source": [
    "Ts = 36.5\n",
    "Fs = 4.5\n",
    "Sr = 0.2\n",
    "\n",
    "calculo_recompensa(Ts, Fs, Sr)"
   ]
  },
  {
   "cell_type": "code",
   "execution_count": 93,
   "id": "1759cf2d",
   "metadata": {},
   "outputs": [
    {
     "name": "stdout",
     "output_type": "stream",
     "text": [
      "IQB: 0.9583508400688454\n",
      "Custo elétrico: 0.33\n",
      "Custo gás: 0.0409290780141844\n",
      "Custo água: 0.036\n",
      "Recompensa: 0.9235819326127359\n"
     ]
    }
   ],
   "source": [
    "Ts = 37.5\n",
    "Fs = 4.5\n",
    "Sr = 0.9\n",
    "\n",
    "calculo_recompensa(Ts, Fs, Sr)"
   ]
  },
  {
   "cell_type": "code",
   "execution_count": 94,
   "id": "26ee19f1",
   "metadata": {},
   "outputs": [
    {
     "name": "stdout",
     "output_type": "stream",
     "text": [
      "IQB: 0.9583508400688454\n",
      "Custo elétrico: 0.11\n",
      "Custo gás: 0.0409290780141844\n",
      "Custo água: 0.036\n",
      "Recompensa: 0.95786764689845\n"
     ]
    }
   ],
   "source": [
    "Ts = 37.5\n",
    "Fs = 4.5\n",
    "Sr = 0.3\n",
    "\n",
    "calculo_recompensa(Ts, Fs, Sr)"
   ]
  },
  {
   "cell_type": "code",
   "execution_count": 95,
   "id": "c940f161",
   "metadata": {},
   "outputs": [
    {
     "name": "stdout",
     "output_type": "stream",
     "text": [
      "IQB: 0.916203211978787\n",
      "Custo elétrico: 0.33\n",
      "Custo gás: 0.0409290780141844\n",
      "Custo água: 0.036\n",
      "Recompensa: 0.8982933557587007\n"
     ]
    }
   ],
   "source": [
    "Ts = 38.5\n",
    "Fs = 4.5\n",
    "Sr = 0.9\n",
    "\n",
    "calculo_recompensa(Ts, Fs, Sr)"
   ]
  },
  {
   "cell_type": "code",
   "execution_count": 96,
   "id": "d6027a16",
   "metadata": {},
   "outputs": [
    {
     "name": "stdout",
     "output_type": "stream",
     "text": [
      "IQB: 0.916203211978787\n",
      "Custo elétrico: 0.14666666666666667\n",
      "Custo gás: 0.0409290780141844\n",
      "Custo água: 0.036\n",
      "Recompensa: 0.9268647843301293\n"
     ]
    }
   ],
   "source": [
    "Ts = 38.5\n",
    "Fs = 4.5\n",
    "Sr = 0.4\n",
    "\n",
    "calculo_recompensa(Ts, Fs, Sr)"
   ]
  },
  {
   "cell_type": "code",
   "execution_count": null,
   "id": "79459677",
   "metadata": {},
   "outputs": [],
   "source": []
  }
 ],
 "metadata": {
  "kernelspec": {
   "display_name": "Python 3 (ipykernel)",
   "language": "python",
   "name": "python3"
  },
  "language_info": {
   "codemirror_mode": {
    "name": "ipython",
    "version": 3
   },
   "file_extension": ".py",
   "mimetype": "text/x-python",
   "name": "python",
   "nbconvert_exporter": "python",
   "pygments_lexer": "ipython3",
   "version": "3.9.13"
  }
 },
 "nbformat": 4,
 "nbformat_minor": 5
}
